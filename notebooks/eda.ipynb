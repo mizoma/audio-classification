{
 "metadata": {
  "language_info": {
   "codemirror_mode": {
    "name": "ipython",
    "version": 3
   },
   "file_extension": ".py",
   "mimetype": "text/x-python",
   "name": "python",
   "nbconvert_exporter": "python",
   "pygments_lexer": "ipython3",
   "version": "3.8.8-final"
  },
  "orig_nbformat": 2,
  "kernelspec": {
   "name": "python3",
   "display_name": "Python 3.8.8 64-bit ('base': conda)",
   "metadata": {
    "interpreter": {
     "hash": "9df7ea0db1536023e68deae559836d07568792d836de873da585ab1e316776f2"
    }
   }
  }
 },
 "nbformat": 4,
 "nbformat_minor": 2,
 "cells": [
  {
   "source": [
    "import os\n",
    "os.chdir('/mnt/c/projects/audio-classification')\n"
   ],
   "cell_type": "code",
   "metadata": {},
   "execution_count": 1,
   "outputs": []
  },
  {
   "cell_type": "code",
   "execution_count": 23,
   "metadata": {},
   "outputs": [],
   "source": [
    "import pickle\n",
    "import pandas as pd\n",
    "import numpy as np\n",
    "from PIL import Image\n",
    "from src.utils import get_label_from_index"
   ]
  },
  {
   "cell_type": "code",
   "execution_count": 16,
   "metadata": {},
   "outputs": [],
   "source": [
    "curated = pickle.load(open('data/mels_train_curated.pkl', 'rb'))"
   ]
  },
  {
   "cell_type": "code",
   "execution_count": 27,
   "metadata": {},
   "outputs": [],
   "source": [
    "img = Image.fromarray(curated[400])\n",
    "reshaped = img.resize((128,128))"
   ]
  },
  {
   "cell_type": "code",
   "execution_count": 31,
   "metadata": {},
   "outputs": [],
   "source": [
    "reshaped_array = np.asarray(reshaped)"
   ]
  },
  {
   "cell_type": "code",
   "execution_count": 37,
   "metadata": {},
   "outputs": [
    {
     "output_type": "execute_result",
     "data": {
      "text/plain": [
       "(128, 128, 3)"
      ]
     },
     "metadata": {},
     "execution_count": 37
    }
   ],
   "source": [
    "reshaped_array.shape"
   ]
  },
  {
   "cell_type": "code",
   "execution_count": 4,
   "metadata": {},
   "outputs": [],
   "source": [
    "from sklearn.datasets import fetch_lfw_people\n",
    "faces = fetch_lfw_people(min_faces_per_person=60)"
   ]
  },
  {
   "cell_type": "code",
   "execution_count": 39,
   "metadata": {},
   "outputs": [
    {
     "output_type": "execute_result",
     "data": {
      "text/plain": [
       "array([[138.        , 135.66667   , 127.666664  , ...,   1.6666666 ,\n",
       "          1.6666666 ,   0.33333334],\n",
       "       [ 71.333336  ,  56.        ,  67.666664  , ..., 247.66667   ,\n",
       "        243.        , 238.33333   ],\n",
       "       [ 84.333336  ,  97.333336  ,  72.333336  , ..., 114.        ,\n",
       "        194.33333   , 241.        ],\n",
       "       ...,\n",
       "       [ 29.333334  ,  29.        ,  29.333334  , ..., 145.        ,\n",
       "        147.        , 141.66667   ],\n",
       "       [ 49.333332  ,  55.666668  ,  76.666664  , ..., 186.33333   ,\n",
       "        176.33333   , 161.        ],\n",
       "       [ 31.        ,  26.333334  ,  28.        , ...,  34.        ,\n",
       "         42.        ,  69.666664  ]], dtype=float32)"
      ]
     },
     "metadata": {},
     "execution_count": 39
    }
   ],
   "source": [
    "faces.images.reshape((1348, 2914))"
   ]
  },
  {
   "cell_type": "code",
   "execution_count": 40,
   "metadata": {},
   "outputs": [
    {
     "output_type": "execute_result",
     "data": {
      "text/plain": [
       "numpy.ndarray"
      ]
     },
     "metadata": {},
     "execution_count": 40
    }
   ],
   "source": [
    "type(faces.images)"
   ]
  },
  {
   "cell_type": "code",
   "execution_count": 12,
   "metadata": {},
   "outputs": [
    {
     "output_type": "execute_result",
     "data": {
      "text/plain": [
       "2914"
      ]
     },
     "metadata": {},
     "execution_count": 12
    }
   ],
   "source": [
    "62*47"
   ]
  },
  {
   "cell_type": "code",
   "execution_count": 14,
   "metadata": {},
   "outputs": [
    {
     "output_type": "execute_result",
     "data": {
      "text/plain": [
       "(1348,)"
      ]
     },
     "metadata": {},
     "execution_count": 14
    }
   ],
   "source": [
    "faces.target.shape"
   ]
  },
  {
   "cell_type": "code",
   "execution_count": null,
   "metadata": {},
   "outputs": [],
   "source": []
  }
 ]
}